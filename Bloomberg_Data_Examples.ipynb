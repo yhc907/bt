{
  "nbformat": 4,
  "nbformat_minor": 0,
  "metadata": {
    "colab": {
      "name": "Bloomberg Data Examples.ipynb",
      "provenance": [],
      "collapsed_sections": [],
      "toc_visible": true,
      "include_colab_link": true
    },
    "kernelspec": {
      "name": "python3",
      "display_name": "Python 3"
    }
  },
  "cells": [
    {
      "cell_type": "markdown",
      "metadata": {
        "id": "view-in-github",
        "colab_type": "text"
      },
      "source": [
        "<a href=\"https://colab.research.google.com/github/yhc907/bt/blob/master/Bloomberg_Data_Examples.ipynb\" target=\"_parent\"><img src=\"https://colab.research.google.com/assets/colab-badge.svg\" alt=\"Open In Colab\"/></a>"
      ]
    },
    {
      "cell_type": "code",
      "metadata": {
        "id": "-BYJlOV2-BTp",
        "colab_type": "code",
        "colab": {}
      },
      "source": [
        "import pandas as pd\n",
        "import numpy as np\n",
        "\n",
        "from xbbg import blp, pipeline"
      ],
      "execution_count": null,
      "outputs": []
    },
    {
      "cell_type": "markdown",
      "metadata": {
        "id": "c5LBd3_p_iCF",
        "colab_type": "text"
      },
      "source": [
        "# Reference Data `BDP` and `BDS`"
      ]
    },
    {
      "cell_type": "code",
      "metadata": {
        "id": "H48xG1Hd_Twg",
        "colab_type": "code",
        "colab": {
          "base_uri": "https://localhost:8080/",
          "height": 80
        },
        "outputId": "1f175d6e-dd6b-4be4-cc86-9f8a7ef3ca41"
      },
      "source": [
        "blp.bdp('AAPL US Equity', flds=['Security_Name', 'Last_Price'])"
      ],
      "execution_count": null,
      "outputs": [
        {
          "output_type": "execute_result",
          "data": {
            "text/plain": [
              "               security_name last_price\n",
              "AAPL US Equity     Apple Inc     425.04"
            ],
            "text/html": [
              "<div>\n",
              "<style scoped>\n",
              "    .dataframe tbody tr th:only-of-type {\n",
              "        vertical-align: middle;\n",
              "    }\n",
              "\n",
              "    .dataframe tbody tr th {\n",
              "        vertical-align: top;\n",
              "    }\n",
              "\n",
              "    .dataframe thead th {\n",
              "        text-align: right;\n",
              "    }\n",
              "</style>\n",
              "<table border=\"1\" class=\"dataframe\">\n",
              "  <thead>\n",
              "    <tr style=\"text-align: right;\">\n",
              "      <th></th>\n",
              "      <th>security_name</th>\n",
              "      <th>last_price</th>\n",
              "    </tr>\n",
              "  </thead>\n",
              "  <tbody>\n",
              "    <tr>\n",
              "      <th>AAPL US Equity</th>\n",
              "      <td>Apple Inc</td>\n",
              "      <td>425.04</td>\n",
              "    </tr>\n",
              "  </tbody>\n",
              "</table>\n",
              "</div>"
            ]
          },
          "metadata": {
            "tags": []
          },
          "execution_count": 2
        }
      ]
    },
    {
      "cell_type": "code",
      "metadata": {
        "id": "pEya245x_qWa",
        "colab_type": "code",
        "colab": {
          "base_uri": "https://localhost:8080/",
          "height": 80
        },
        "outputId": "48406758-9a5e-48d6-b959-02d46e1b7324"
      },
      "source": [
        "blp.bdp('6758 JP Equity', flds='Crncy_Adj_Mkt_Cap', Eqy_Fund_Crncy='USD')"
      ],
      "execution_count": null,
      "outputs": [
        {
          "output_type": "execute_result",
          "data": {
            "text/plain": [
              "                crncy_adj_mkt_cap\n",
              "6758 JP Equity          96,223.65"
            ],
            "text/html": [
              "<div>\n",
              "<style scoped>\n",
              "    .dataframe tbody tr th:only-of-type {\n",
              "        vertical-align: middle;\n",
              "    }\n",
              "\n",
              "    .dataframe tbody tr th {\n",
              "        vertical-align: top;\n",
              "    }\n",
              "\n",
              "    .dataframe thead th {\n",
              "        text-align: right;\n",
              "    }\n",
              "</style>\n",
              "<table border=\"1\" class=\"dataframe\">\n",
              "  <thead>\n",
              "    <tr style=\"text-align: right;\">\n",
              "      <th></th>\n",
              "      <th>crncy_adj_mkt_cap</th>\n",
              "    </tr>\n",
              "  </thead>\n",
              "  <tbody>\n",
              "    <tr>\n",
              "      <th>6758 JP Equity</th>\n",
              "      <td>96,223.65</td>\n",
              "    </tr>\n",
              "  </tbody>\n",
              "</table>\n",
              "</div>"
            ]
          },
          "metadata": {
            "tags": []
          },
          "execution_count": 3
        }
      ]
    },
    {
      "cell_type": "code",
      "metadata": {
        "id": "tyXZPF62Angb",
        "colab_type": "code",
        "colab": {
          "base_uri": "https://localhost:8080/",
          "height": 204
        },
        "outputId": "2dd23564-63dc-4a8e-b1b8-bec733d5df9c"
      },
      "source": [
        "holders = blp.bds('AMZN US Equity', flds='All_Holders_Public_Filings', cache=True)\n",
        "(\n",
        "    holders\n",
        "    .loc[:, ~holders.columns.str.contains(\n",
        "        f'holder_id|portfolio_name|change|number|'\n",
        "        f'metro|percent_of_portfolio|source'\n",
        "    )]\n",
        "    .rename(\n",
        "        index=lambda tkr: tkr.replace(' Equity', ''),\n",
        "        columns={\n",
        "            'holder_name_': 'holder',\n",
        "            'position_': 'position',\n",
        "            'filing_date__': 'filing_dt',\n",
        "            'percent_outstanding': 'pct_out',\n",
        "            'insider_status_': 'insider',\n",
        "        }\n",
        "    )\n",
        ").head()"
      ],
      "execution_count": null,
      "outputs": [
        {
          "output_type": "execute_result",
          "data": {
            "text/plain": [
              "                             holder      position   filing_dt insider  pct_out   institution_type_        country\n",
              "AMZN US             Bezos Jeffrey P 55,488,770.00  2020-06-30       Y    11.08        Unclassified            n/a\n",
              "AMZN US  Advisor Group Holdings Inc 35,429,155.00  2020-03-31     N-P     7.07  Investment Advisor  United States\n",
              "AMZN US      Vanguard Group Inc/The 32,975,915.00  2020-03-31     N-P     6.58  Investment Advisor  United States\n",
              "AMZN US               BlackRock Inc 27,023,092.00  2020-03-31     N-P     5.40  Investment Advisor  United States\n",
              "AMZN US             Scott MacKenzie 19,786,240.00  2019-08-01     N-P     3.95        Unclassified            n/a"
            ],
            "text/html": [
              "<div>\n",
              "<style scoped>\n",
              "    .dataframe tbody tr th:only-of-type {\n",
              "        vertical-align: middle;\n",
              "    }\n",
              "\n",
              "    .dataframe tbody tr th {\n",
              "        vertical-align: top;\n",
              "    }\n",
              "\n",
              "    .dataframe thead th {\n",
              "        text-align: right;\n",
              "    }\n",
              "</style>\n",
              "<table border=\"1\" class=\"dataframe\">\n",
              "  <thead>\n",
              "    <tr style=\"text-align: right;\">\n",
              "      <th></th>\n",
              "      <th>holder</th>\n",
              "      <th>position</th>\n",
              "      <th>filing_dt</th>\n",
              "      <th>insider</th>\n",
              "      <th>pct_out</th>\n",
              "      <th>institution_type_</th>\n",
              "      <th>country</th>\n",
              "    </tr>\n",
              "  </thead>\n",
              "  <tbody>\n",
              "    <tr>\n",
              "      <th>AMZN US</th>\n",
              "      <td>Bezos Jeffrey P</td>\n",
              "      <td>55,488,770.00</td>\n",
              "      <td>2020-06-30</td>\n",
              "      <td>Y</td>\n",
              "      <td>11.08</td>\n",
              "      <td>Unclassified</td>\n",
              "      <td>n/a</td>\n",
              "    </tr>\n",
              "    <tr>\n",
              "      <th>AMZN US</th>\n",
              "      <td>Advisor Group Holdings Inc</td>\n",
              "      <td>35,429,155.00</td>\n",
              "      <td>2020-03-31</td>\n",
              "      <td>N-P</td>\n",
              "      <td>7.07</td>\n",
              "      <td>Investment Advisor</td>\n",
              "      <td>United States</td>\n",
              "    </tr>\n",
              "    <tr>\n",
              "      <th>AMZN US</th>\n",
              "      <td>Vanguard Group Inc/The</td>\n",
              "      <td>32,975,915.00</td>\n",
              "      <td>2020-03-31</td>\n",
              "      <td>N-P</td>\n",
              "      <td>6.58</td>\n",
              "      <td>Investment Advisor</td>\n",
              "      <td>United States</td>\n",
              "    </tr>\n",
              "    <tr>\n",
              "      <th>AMZN US</th>\n",
              "      <td>BlackRock Inc</td>\n",
              "      <td>27,023,092.00</td>\n",
              "      <td>2020-03-31</td>\n",
              "      <td>N-P</td>\n",
              "      <td>5.40</td>\n",
              "      <td>Investment Advisor</td>\n",
              "      <td>United States</td>\n",
              "    </tr>\n",
              "    <tr>\n",
              "      <th>AMZN US</th>\n",
              "      <td>Scott MacKenzie</td>\n",
              "      <td>19,786,240.00</td>\n",
              "      <td>2019-08-01</td>\n",
              "      <td>N-P</td>\n",
              "      <td>3.95</td>\n",
              "      <td>Unclassified</td>\n",
              "      <td>n/a</td>\n",
              "    </tr>\n",
              "  </tbody>\n",
              "</table>\n",
              "</div>"
            ]
          },
          "metadata": {
            "tags": []
          },
          "execution_count": 4
        }
      ]
    },
    {
      "cell_type": "code",
      "metadata": {
        "id": "X6_popxkC_ft",
        "colab_type": "code",
        "colab": {
          "base_uri": "https://localhost:8080/",
          "height": 235
        },
        "outputId": "2e38a008-1f0b-43e0-8894-497f727ef062"
      },
      "source": [
        "blp.dividend('SPY US Equity', start_date='2019')"
      ],
      "execution_count": null,
      "outputs": [
        {
          "output_type": "execute_result",
          "data": {
            "text/plain": [
              "                 dec_date     ex_date    rec_date    pay_date  dvd_amt dvd_freq dvd_type\n",
              "SPY US Equity  2020-06-18  2020-06-19  2020-06-22  2020-07-31     1.37  Quarter   Income\n",
              "SPY US Equity  2020-03-19  2020-03-20  2020-03-23  2020-04-30     1.41  Quarter   Income\n",
              "SPY US Equity  2019-12-19  2019-12-20  2019-12-23  2020-01-31     1.57  Quarter   Income\n",
              "SPY US Equity  2019-09-19  2019-09-20  2019-09-23  2019-10-31     1.38  Quarter   Income\n",
              "SPY US Equity  2019-06-20  2019-06-21  2019-06-24  2019-07-31     1.43  Quarter   Income\n",
              "SPY US Equity  2019-03-14  2019-03-15  2019-03-18  2019-04-30     1.23  Quarter   Income"
            ],
            "text/html": [
              "<div>\n",
              "<style scoped>\n",
              "    .dataframe tbody tr th:only-of-type {\n",
              "        vertical-align: middle;\n",
              "    }\n",
              "\n",
              "    .dataframe tbody tr th {\n",
              "        vertical-align: top;\n",
              "    }\n",
              "\n",
              "    .dataframe thead th {\n",
              "        text-align: right;\n",
              "    }\n",
              "</style>\n",
              "<table border=\"1\" class=\"dataframe\">\n",
              "  <thead>\n",
              "    <tr style=\"text-align: right;\">\n",
              "      <th></th>\n",
              "      <th>dec_date</th>\n",
              "      <th>ex_date</th>\n",
              "      <th>rec_date</th>\n",
              "      <th>pay_date</th>\n",
              "      <th>dvd_amt</th>\n",
              "      <th>dvd_freq</th>\n",
              "      <th>dvd_type</th>\n",
              "    </tr>\n",
              "  </thead>\n",
              "  <tbody>\n",
              "    <tr>\n",
              "      <th>SPY US Equity</th>\n",
              "      <td>2020-06-18</td>\n",
              "      <td>2020-06-19</td>\n",
              "      <td>2020-06-22</td>\n",
              "      <td>2020-07-31</td>\n",
              "      <td>1.37</td>\n",
              "      <td>Quarter</td>\n",
              "      <td>Income</td>\n",
              "    </tr>\n",
              "    <tr>\n",
              "      <th>SPY US Equity</th>\n",
              "      <td>2020-03-19</td>\n",
              "      <td>2020-03-20</td>\n",
              "      <td>2020-03-23</td>\n",
              "      <td>2020-04-30</td>\n",
              "      <td>1.41</td>\n",
              "      <td>Quarter</td>\n",
              "      <td>Income</td>\n",
              "    </tr>\n",
              "    <tr>\n",
              "      <th>SPY US Equity</th>\n",
              "      <td>2019-12-19</td>\n",
              "      <td>2019-12-20</td>\n",
              "      <td>2019-12-23</td>\n",
              "      <td>2020-01-31</td>\n",
              "      <td>1.57</td>\n",
              "      <td>Quarter</td>\n",
              "      <td>Income</td>\n",
              "    </tr>\n",
              "    <tr>\n",
              "      <th>SPY US Equity</th>\n",
              "      <td>2019-09-19</td>\n",
              "      <td>2019-09-20</td>\n",
              "      <td>2019-09-23</td>\n",
              "      <td>2019-10-31</td>\n",
              "      <td>1.38</td>\n",
              "      <td>Quarter</td>\n",
              "      <td>Income</td>\n",
              "    </tr>\n",
              "    <tr>\n",
              "      <th>SPY US Equity</th>\n",
              "      <td>2019-06-20</td>\n",
              "      <td>2019-06-21</td>\n",
              "      <td>2019-06-24</td>\n",
              "      <td>2019-07-31</td>\n",
              "      <td>1.43</td>\n",
              "      <td>Quarter</td>\n",
              "      <td>Income</td>\n",
              "    </tr>\n",
              "    <tr>\n",
              "      <th>SPY US Equity</th>\n",
              "      <td>2019-03-14</td>\n",
              "      <td>2019-03-15</td>\n",
              "      <td>2019-03-18</td>\n",
              "      <td>2019-04-30</td>\n",
              "      <td>1.23</td>\n",
              "      <td>Quarter</td>\n",
              "      <td>Income</td>\n",
              "    </tr>\n",
              "  </tbody>\n",
              "</table>\n",
              "</div>"
            ]
          },
          "metadata": {
            "tags": []
          },
          "execution_count": 5
        }
      ]
    },
    {
      "cell_type": "code",
      "metadata": {
        "id": "QCr2OoJZDHJE",
        "colab_type": "code",
        "colab": {
          "base_uri": "https://localhost:8080/",
          "height": 173
        },
        "outputId": "e5687a7e-011d-486f-9b89-d13e0b7525aa"
      },
      "source": [
        "blp.earning('FB US Equity', Eqy_Fund_Year=2018, Number_Of_Periods=2)"
      ],
      "execution_count": null,
      "outputs": [
        {
          "output_type": "execute_result",
          "data": {
            "text/plain": [
              "               segment_name  level    fy2019    fy2018  fy2019_pct  fy2018_pct\n",
              "FB US Equity    US & Canada      1 32,206.00 25,727.00       45.55       46.07\n",
              "FB US Equity         Europe      1 16,826.00 13,631.00       23.80       24.41\n",
              "FB US Equity   Asia-Pacific      1 15,406.00 11,733.00       21.79       21.01\n",
              "FB US Equity  Rest of World      1  6,259.00  4,747.00        8.85        8.50"
            ],
            "text/html": [
              "<div>\n",
              "<style scoped>\n",
              "    .dataframe tbody tr th:only-of-type {\n",
              "        vertical-align: middle;\n",
              "    }\n",
              "\n",
              "    .dataframe tbody tr th {\n",
              "        vertical-align: top;\n",
              "    }\n",
              "\n",
              "    .dataframe thead th {\n",
              "        text-align: right;\n",
              "    }\n",
              "</style>\n",
              "<table border=\"1\" class=\"dataframe\">\n",
              "  <thead>\n",
              "    <tr style=\"text-align: right;\">\n",
              "      <th></th>\n",
              "      <th>segment_name</th>\n",
              "      <th>level</th>\n",
              "      <th>fy2019</th>\n",
              "      <th>fy2018</th>\n",
              "      <th>fy2019_pct</th>\n",
              "      <th>fy2018_pct</th>\n",
              "    </tr>\n",
              "  </thead>\n",
              "  <tbody>\n",
              "    <tr>\n",
              "      <th>FB US Equity</th>\n",
              "      <td>US &amp; Canada</td>\n",
              "      <td>1</td>\n",
              "      <td>32,206.00</td>\n",
              "      <td>25,727.00</td>\n",
              "      <td>45.55</td>\n",
              "      <td>46.07</td>\n",
              "    </tr>\n",
              "    <tr>\n",
              "      <th>FB US Equity</th>\n",
              "      <td>Europe</td>\n",
              "      <td>1</td>\n",
              "      <td>16,826.00</td>\n",
              "      <td>13,631.00</td>\n",
              "      <td>23.80</td>\n",
              "      <td>24.41</td>\n",
              "    </tr>\n",
              "    <tr>\n",
              "      <th>FB US Equity</th>\n",
              "      <td>Asia-Pacific</td>\n",
              "      <td>1</td>\n",
              "      <td>15,406.00</td>\n",
              "      <td>11,733.00</td>\n",
              "      <td>21.79</td>\n",
              "      <td>21.01</td>\n",
              "    </tr>\n",
              "    <tr>\n",
              "      <th>FB US Equity</th>\n",
              "      <td>Rest of World</td>\n",
              "      <td>1</td>\n",
              "      <td>6,259.00</td>\n",
              "      <td>4,747.00</td>\n",
              "      <td>8.85</td>\n",
              "      <td>8.50</td>\n",
              "    </tr>\n",
              "  </tbody>\n",
              "</table>\n",
              "</div>"
            ]
          },
          "metadata": {
            "tags": []
          },
          "execution_count": 8
        }
      ]
    },
    {
      "cell_type": "markdown",
      "metadata": {
        "id": "47tzPYCDDi10",
        "colab_type": "text"
      },
      "source": [
        "# Historical Data"
      ]
    },
    {
      "cell_type": "markdown",
      "metadata": {
        "id": "AgjNESzWD_VT",
        "colab_type": "text"
      },
      "source": [
        "Historical data with Excel compatible overrides"
      ]
    },
    {
      "cell_type": "code",
      "metadata": {
        "id": "BXYJi9yfDhvB",
        "colab_type": "code",
        "colab": {
          "base_uri": "https://localhost:8080/",
          "height": 359
        },
        "outputId": "f2526f5e-b8e4-4103-ead0-a52e12d19aef"
      },
      "source": [
        "blp.bdh(\n",
        "    tickers='SHCOMP Index', flds=['high', 'low', 'last_price'],\n",
        "    start_date='2019-11', end_date='2020', Per='W', Fill='P', Days='A',\n",
        ")"
      ],
      "execution_count": null,
      "outputs": [
        {
          "output_type": "execute_result",
          "data": {
            "text/plain": [
              "           SHCOMP Index                    \n",
              "                   high      low last_price\n",
              "2019-11-01     2,980.13 2,917.15   2,958.20\n",
              "2019-11-08     3,008.31 2,962.84   2,964.18\n",
              "2019-11-15     2,949.96 2,891.20   2,891.34\n",
              "2019-11-22     2,933.99 2,873.99   2,885.29\n",
              "2019-11-29     2,915.04 2,858.58   2,871.98\n",
              "2019-12-06     2,912.01 2,857.32   2,912.01\n",
              "2019-12-13     2,969.98 2,902.79   2,967.68\n",
              "2019-12-20     3,039.38 2,958.71   3,004.94\n",
              "2019-12-27     3,036.11 2,960.43   3,005.03"
            ],
            "text/html": [
              "<div>\n",
              "<style scoped>\n",
              "    .dataframe tbody tr th:only-of-type {\n",
              "        vertical-align: middle;\n",
              "    }\n",
              "\n",
              "    .dataframe tbody tr th {\n",
              "        vertical-align: top;\n",
              "    }\n",
              "\n",
              "    .dataframe thead tr th {\n",
              "        text-align: left;\n",
              "    }\n",
              "</style>\n",
              "<table border=\"1\" class=\"dataframe\">\n",
              "  <thead>\n",
              "    <tr>\n",
              "      <th></th>\n",
              "      <th colspan=\"3\" halign=\"left\">SHCOMP Index</th>\n",
              "    </tr>\n",
              "    <tr>\n",
              "      <th></th>\n",
              "      <th>high</th>\n",
              "      <th>low</th>\n",
              "      <th>last_price</th>\n",
              "    </tr>\n",
              "  </thead>\n",
              "  <tbody>\n",
              "    <tr>\n",
              "      <th>2019-11-01</th>\n",
              "      <td>2,980.13</td>\n",
              "      <td>2,917.15</td>\n",
              "      <td>2,958.20</td>\n",
              "    </tr>\n",
              "    <tr>\n",
              "      <th>2019-11-08</th>\n",
              "      <td>3,008.31</td>\n",
              "      <td>2,962.84</td>\n",
              "      <td>2,964.18</td>\n",
              "    </tr>\n",
              "    <tr>\n",
              "      <th>2019-11-15</th>\n",
              "      <td>2,949.96</td>\n",
              "      <td>2,891.20</td>\n",
              "      <td>2,891.34</td>\n",
              "    </tr>\n",
              "    <tr>\n",
              "      <th>2019-11-22</th>\n",
              "      <td>2,933.99</td>\n",
              "      <td>2,873.99</td>\n",
              "      <td>2,885.29</td>\n",
              "    </tr>\n",
              "    <tr>\n",
              "      <th>2019-11-29</th>\n",
              "      <td>2,915.04</td>\n",
              "      <td>2,858.58</td>\n",
              "      <td>2,871.98</td>\n",
              "    </tr>\n",
              "    <tr>\n",
              "      <th>2019-12-06</th>\n",
              "      <td>2,912.01</td>\n",
              "      <td>2,857.32</td>\n",
              "      <td>2,912.01</td>\n",
              "    </tr>\n",
              "    <tr>\n",
              "      <th>2019-12-13</th>\n",
              "      <td>2,969.98</td>\n",
              "      <td>2,902.79</td>\n",
              "      <td>2,967.68</td>\n",
              "    </tr>\n",
              "    <tr>\n",
              "      <th>2019-12-20</th>\n",
              "      <td>3,039.38</td>\n",
              "      <td>2,958.71</td>\n",
              "      <td>3,004.94</td>\n",
              "    </tr>\n",
              "    <tr>\n",
              "      <th>2019-12-27</th>\n",
              "      <td>3,036.11</td>\n",
              "      <td>2,960.43</td>\n",
              "      <td>3,005.03</td>\n",
              "    </tr>\n",
              "  </tbody>\n",
              "</table>\n",
              "</div>"
            ]
          },
          "metadata": {
            "tags": []
          },
          "execution_count": 31
        }
      ]
    },
    {
      "cell_type": "markdown",
      "metadata": {
        "id": "SE7izShuEFJv",
        "colab_type": "text"
      },
      "source": [
        "Dividend / split adjustments"
      ]
    },
    {
      "cell_type": "code",
      "metadata": {
        "id": "VK8Dgs9HENnG",
        "colab_type": "code",
        "colab": {
          "base_uri": "https://localhost:8080/",
          "height": 204
        },
        "outputId": "47a2a2a2-1f3a-4deb-d4e2-92e776ca9c60"
      },
      "source": [
        "pd.concat([\n",
        "    blp.bdh(\n",
        "        'AAPL US Equity', 'Px_Last', '20140605', '20140610',\n",
        "        CshAdjNormal=True, CshAdjAbnormal=True, CapChg=True\n",
        "    ).rename(columns={'Px_Last': 'Px_Adj'}),\n",
        "    blp.bdh(\n",
        "        'AAPL US Equity', 'Px_Last', '20140605', '20140610',\n",
        "        CshAdjNormal=False, CshAdjAbnormal=False, CapChg=False\n",
        "    ).rename(columns={'Px_Last': 'Px_Raw'}),\n",
        "], axis=1)"
      ],
      "execution_count": null,
      "outputs": [
        {
          "output_type": "execute_result",
          "data": {
            "text/plain": [
              "           AAPL US Equity       \n",
              "                   Px_Adj Px_Raw\n",
              "2014-06-05          83.76 647.35\n",
              "2014-06-06          83.53 645.57\n",
              "2014-06-09          84.86  93.70\n",
              "2014-06-10          85.36  94.25"
            ],
            "text/html": [
              "<div>\n",
              "<style scoped>\n",
              "    .dataframe tbody tr th:only-of-type {\n",
              "        vertical-align: middle;\n",
              "    }\n",
              "\n",
              "    .dataframe tbody tr th {\n",
              "        vertical-align: top;\n",
              "    }\n",
              "\n",
              "    .dataframe thead tr th {\n",
              "        text-align: left;\n",
              "    }\n",
              "</style>\n",
              "<table border=\"1\" class=\"dataframe\">\n",
              "  <thead>\n",
              "    <tr>\n",
              "      <th></th>\n",
              "      <th colspan=\"2\" halign=\"left\">AAPL US Equity</th>\n",
              "    </tr>\n",
              "    <tr>\n",
              "      <th></th>\n",
              "      <th>Px_Adj</th>\n",
              "      <th>Px_Raw</th>\n",
              "    </tr>\n",
              "  </thead>\n",
              "  <tbody>\n",
              "    <tr>\n",
              "      <th>2014-06-05</th>\n",
              "      <td>83.76</td>\n",
              "      <td>647.35</td>\n",
              "    </tr>\n",
              "    <tr>\n",
              "      <th>2014-06-06</th>\n",
              "      <td>83.53</td>\n",
              "      <td>645.57</td>\n",
              "    </tr>\n",
              "    <tr>\n",
              "      <th>2014-06-09</th>\n",
              "      <td>84.86</td>\n",
              "      <td>93.70</td>\n",
              "    </tr>\n",
              "    <tr>\n",
              "      <th>2014-06-10</th>\n",
              "      <td>85.36</td>\n",
              "      <td>94.25</td>\n",
              "    </tr>\n",
              "  </tbody>\n",
              "</table>\n",
              "</div>"
            ]
          },
          "metadata": {
            "tags": []
          },
          "execution_count": 30
        }
      ]
    },
    {
      "cell_type": "markdown",
      "metadata": {
        "id": "6jiuSZWfGp0F",
        "colab_type": "text"
      },
      "source": [
        "# Intraday Bars"
      ]
    },
    {
      "cell_type": "code",
      "metadata": {
        "id": "TUxTkLe5HMZA",
        "colab_type": "code",
        "colab": {
          "base_uri": "https://localhost:8080/",
          "height": 34
        },
        "outputId": "0e7729ca-7994-42ba-8fd2-615700031024"
      },
      "source": [
        "cur_dt = pd.Timestamp('today', tz='America/New_York')\n",
        "recent = pd.bdate_range(end='today', periods=2, tz='America/New_York')\n",
        "pre_dt = max(filter(lambda dd: dd < cur_dt, recent))\n",
        "pre_dt.date()"
      ],
      "execution_count": null,
      "outputs": [
        {
          "output_type": "execute_result",
          "data": {
            "text/plain": [
              "datetime.date(2020, 7, 31)"
            ]
          },
          "metadata": {
            "tags": []
          },
          "execution_count": 35
        }
      ]
    },
    {
      "cell_type": "code",
      "metadata": {
        "id": "rIB0MtFvGri9",
        "colab_type": "code",
        "colab": {
          "base_uri": "https://localhost:8080/",
          "height": 252
        },
        "outputId": "a1bb8aeb-4792-4a34-9e71-5f0411958083"
      },
      "source": [
        "blp.bdib('QQQ US Equity', dt=pre_dt, session='day').tail()"
      ],
      "execution_count": null,
      "outputs": [
        {
          "output_type": "stream",
          "text": [
            "2020-08-02 19:58:52,488:xbbg.io.storage.save_intraday:INFO:saving data to C:/Data/Bloomberg/Equity/QQQ US Equity/TRADE/2020-07-31.parq ...\n"
          ],
          "name": "stderr"
        },
        {
          "output_type": "execute_result",
          "data": {
            "text/plain": [
              "                          QQQ US Equity                                                      \n",
              "                                   open   high    low  close   volume num_trds          value\n",
              "2020-07-31 15:55:00-04:00        265.11 265.25 265.06 265.25   141216      641  37,446,796.00\n",
              "2020-07-31 15:56:00-04:00        265.24 265.30 265.20 265.27   270704     1124  71,808,048.00\n",
              "2020-07-31 15:57:00-04:00        265.27 265.37 265.20 265.36   216632      901  57,474,260.00\n",
              "2020-07-31 15:58:00-04:00        265.36 265.39 265.33 265.34   257720     1314  68,386,880.00\n",
              "2020-07-31 15:59:00-04:00        265.36 265.88 265.36 265.79  1351384     3826 359,012,960.00"
            ],
            "text/html": [
              "<div>\n",
              "<style scoped>\n",
              "    .dataframe tbody tr th:only-of-type {\n",
              "        vertical-align: middle;\n",
              "    }\n",
              "\n",
              "    .dataframe tbody tr th {\n",
              "        vertical-align: top;\n",
              "    }\n",
              "\n",
              "    .dataframe thead tr th {\n",
              "        text-align: left;\n",
              "    }\n",
              "</style>\n",
              "<table border=\"1\" class=\"dataframe\">\n",
              "  <thead>\n",
              "    <tr>\n",
              "      <th></th>\n",
              "      <th colspan=\"7\" halign=\"left\">QQQ US Equity</th>\n",
              "    </tr>\n",
              "    <tr>\n",
              "      <th></th>\n",
              "      <th>open</th>\n",
              "      <th>high</th>\n",
              "      <th>low</th>\n",
              "      <th>close</th>\n",
              "      <th>volume</th>\n",
              "      <th>num_trds</th>\n",
              "      <th>value</th>\n",
              "    </tr>\n",
              "  </thead>\n",
              "  <tbody>\n",
              "    <tr>\n",
              "      <th>2020-07-31 15:55:00-04:00</th>\n",
              "      <td>265.11</td>\n",
              "      <td>265.25</td>\n",
              "      <td>265.06</td>\n",
              "      <td>265.25</td>\n",
              "      <td>141216</td>\n",
              "      <td>641</td>\n",
              "      <td>37,446,796.00</td>\n",
              "    </tr>\n",
              "    <tr>\n",
              "      <th>2020-07-31 15:56:00-04:00</th>\n",
              "      <td>265.24</td>\n",
              "      <td>265.30</td>\n",
              "      <td>265.20</td>\n",
              "      <td>265.27</td>\n",
              "      <td>270704</td>\n",
              "      <td>1124</td>\n",
              "      <td>71,808,048.00</td>\n",
              "    </tr>\n",
              "    <tr>\n",
              "      <th>2020-07-31 15:57:00-04:00</th>\n",
              "      <td>265.27</td>\n",
              "      <td>265.37</td>\n",
              "      <td>265.20</td>\n",
              "      <td>265.36</td>\n",
              "      <td>216632</td>\n",
              "      <td>901</td>\n",
              "      <td>57,474,260.00</td>\n",
              "    </tr>\n",
              "    <tr>\n",
              "      <th>2020-07-31 15:58:00-04:00</th>\n",
              "      <td>265.36</td>\n",
              "      <td>265.39</td>\n",
              "      <td>265.33</td>\n",
              "      <td>265.34</td>\n",
              "      <td>257720</td>\n",
              "      <td>1314</td>\n",
              "      <td>68,386,880.00</td>\n",
              "    </tr>\n",
              "    <tr>\n",
              "      <th>2020-07-31 15:59:00-04:00</th>\n",
              "      <td>265.36</td>\n",
              "      <td>265.88</td>\n",
              "      <td>265.36</td>\n",
              "      <td>265.79</td>\n",
              "      <td>1351384</td>\n",
              "      <td>3826</td>\n",
              "      <td>359,012,960.00</td>\n",
              "    </tr>\n",
              "  </tbody>\n",
              "</table>\n",
              "</div>"
            ]
          },
          "metadata": {
            "tags": []
          },
          "execution_count": 36
        }
      ]
    },
    {
      "cell_type": "code",
      "metadata": {
        "id": "NVuSvgmhb-iI",
        "colab_type": "code",
        "colab": {
          "base_uri": "https://localhost:8080/",
          "height": 345
        },
        "outputId": "fb66f577-ff31-4868-9983-69944dbb6678"
      },
      "source": [
        "blp.bdib('388 HK Equity', dt=pre_dt, session='am_open_7')"
      ],
      "execution_count": null,
      "outputs": [
        {
          "output_type": "stream",
          "text": [
            "2020-08-02 19:58:56,071:xbbg.io.storage.save_intraday:INFO:saving data to C:/Data/Bloomberg/Equity/388 HK Equity/TRADE/2020-07-31.parq ...\n"
          ],
          "name": "stderr"
        },
        {
          "output_type": "execute_result",
          "data": {
            "text/plain": [
              "                          388 HK Equity                                                   \n",
              "                                   open   high    low  close volume num_trds         value\n",
              "2020-07-31 09:30:00+08:00        366.60 367.80 366.00 367.20  87800      279 32,196,540.00\n",
              "2020-07-31 09:31:00+08:00        367.80 369.60 367.60 369.40  78900      255 29,081,540.00\n",
              "2020-07-31 09:32:00+08:00        369.40 369.80 368.80 369.20  46300      139 17,100,180.00\n",
              "2020-07-31 09:33:00+08:00        369.60 370.00 369.20 369.60  31500      108 11,645,980.00\n",
              "2020-07-31 09:34:00+08:00        370.00 370.00 369.20 369.60  26100       88  9,645,980.00\n",
              "2020-07-31 09:35:00+08:00        369.60 370.40 369.60 370.00  98900      130 36,589,600.00\n",
              "2020-07-31 09:36:00+08:00        370.20 370.20 369.80 370.00  64400      114 23,831,420.00\n",
              "2020-07-31 09:37:00+08:00        370.20 370.60 370.00 370.60  32400       84 11,996,560.00"
            ],
            "text/html": [
              "<div>\n",
              "<style scoped>\n",
              "    .dataframe tbody tr th:only-of-type {\n",
              "        vertical-align: middle;\n",
              "    }\n",
              "\n",
              "    .dataframe tbody tr th {\n",
              "        vertical-align: top;\n",
              "    }\n",
              "\n",
              "    .dataframe thead tr th {\n",
              "        text-align: left;\n",
              "    }\n",
              "</style>\n",
              "<table border=\"1\" class=\"dataframe\">\n",
              "  <thead>\n",
              "    <tr>\n",
              "      <th></th>\n",
              "      <th colspan=\"7\" halign=\"left\">388 HK Equity</th>\n",
              "    </tr>\n",
              "    <tr>\n",
              "      <th></th>\n",
              "      <th>open</th>\n",
              "      <th>high</th>\n",
              "      <th>low</th>\n",
              "      <th>close</th>\n",
              "      <th>volume</th>\n",
              "      <th>num_trds</th>\n",
              "      <th>value</th>\n",
              "    </tr>\n",
              "  </thead>\n",
              "  <tbody>\n",
              "    <tr>\n",
              "      <th>2020-07-31 09:30:00+08:00</th>\n",
              "      <td>366.60</td>\n",
              "      <td>367.80</td>\n",
              "      <td>366.00</td>\n",
              "      <td>367.20</td>\n",
              "      <td>87800</td>\n",
              "      <td>279</td>\n",
              "      <td>32,196,540.00</td>\n",
              "    </tr>\n",
              "    <tr>\n",
              "      <th>2020-07-31 09:31:00+08:00</th>\n",
              "      <td>367.80</td>\n",
              "      <td>369.60</td>\n",
              "      <td>367.60</td>\n",
              "      <td>369.40</td>\n",
              "      <td>78900</td>\n",
              "      <td>255</td>\n",
              "      <td>29,081,540.00</td>\n",
              "    </tr>\n",
              "    <tr>\n",
              "      <th>2020-07-31 09:32:00+08:00</th>\n",
              "      <td>369.40</td>\n",
              "      <td>369.80</td>\n",
              "      <td>368.80</td>\n",
              "      <td>369.20</td>\n",
              "      <td>46300</td>\n",
              "      <td>139</td>\n",
              "      <td>17,100,180.00</td>\n",
              "    </tr>\n",
              "    <tr>\n",
              "      <th>2020-07-31 09:33:00+08:00</th>\n",
              "      <td>369.60</td>\n",
              "      <td>370.00</td>\n",
              "      <td>369.20</td>\n",
              "      <td>369.60</td>\n",
              "      <td>31500</td>\n",
              "      <td>108</td>\n",
              "      <td>11,645,980.00</td>\n",
              "    </tr>\n",
              "    <tr>\n",
              "      <th>2020-07-31 09:34:00+08:00</th>\n",
              "      <td>370.00</td>\n",
              "      <td>370.00</td>\n",
              "      <td>369.20</td>\n",
              "      <td>369.60</td>\n",
              "      <td>26100</td>\n",
              "      <td>88</td>\n",
              "      <td>9,645,980.00</td>\n",
              "    </tr>\n",
              "    <tr>\n",
              "      <th>2020-07-31 09:35:00+08:00</th>\n",
              "      <td>369.60</td>\n",
              "      <td>370.40</td>\n",
              "      <td>369.60</td>\n",
              "      <td>370.00</td>\n",
              "      <td>98900</td>\n",
              "      <td>130</td>\n",
              "      <td>36,589,600.00</td>\n",
              "    </tr>\n",
              "    <tr>\n",
              "      <th>2020-07-31 09:36:00+08:00</th>\n",
              "      <td>370.20</td>\n",
              "      <td>370.20</td>\n",
              "      <td>369.80</td>\n",
              "      <td>370.00</td>\n",
              "      <td>64400</td>\n",
              "      <td>114</td>\n",
              "      <td>23,831,420.00</td>\n",
              "    </tr>\n",
              "    <tr>\n",
              "      <th>2020-07-31 09:37:00+08:00</th>\n",
              "      <td>370.20</td>\n",
              "      <td>370.60</td>\n",
              "      <td>370.00</td>\n",
              "      <td>370.60</td>\n",
              "      <td>32400</td>\n",
              "      <td>84</td>\n",
              "      <td>11,996,560.00</td>\n",
              "    </tr>\n",
              "  </tbody>\n",
              "</table>\n",
              "</div>"
            ]
          },
          "metadata": {
            "tags": []
          },
          "execution_count": 37
        }
      ]
    },
    {
      "cell_type": "markdown",
      "metadata": {
        "id": "DP_bqoeYAr30",
        "colab_type": "text"
      },
      "source": [
        "# Intraday Tick Data"
      ]
    },
    {
      "cell_type": "code",
      "metadata": {
        "id": "h16z0fv7ApPa",
        "colab_type": "code",
        "colab": {
          "base_uri": "https://localhost:8080/",
          "height": 390
        },
        "outputId": "85c04e53-5192-415e-df6c-46b11153f80c"
      },
      "source": [
        "blp.bdtick('QQQ US Equity', dt=pre_dt).tail(10)"
      ],
      "execution_count": null,
      "outputs": [
        {
          "output_type": "execute_result",
          "data": {
            "text/plain": [
              "                          QQQ US Equity                        \n",
              "                                    typ  value volume cond exch\n",
              "2020-07-31 20:00:00-04:00         TRADE 265.84      0   NC    P\n",
              "2020-07-31 20:00:00-04:00         TRADE 265.78      0   OC    N\n",
              "2020-07-31 20:00:00-04:00         TRADE 264.76      0   OC    M\n",
              "2020-07-31 20:00:00-04:00         TRADE 265.84      0   OC    K\n",
              "2020-07-31 20:00:00-04:00         TRADE 265.82      0   OC    J\n",
              "2020-07-31 20:00:00-04:00         TRADE 265.67      0   OC    C\n",
              "2020-07-31 20:00:00-04:00         TRADE 265.85      0   OC    B\n",
              "2020-07-31 20:00:00-04:00         TRADE 265.60      0   OC    A\n",
              "2020-07-31 20:00:00-04:00         TRADE 265.76      0   OC    D\n",
              "2020-07-31 20:00:00-04:00         TRADE 265.79      0   CC    Q"
            ],
            "text/html": [
              "<div>\n",
              "<style scoped>\n",
              "    .dataframe tbody tr th:only-of-type {\n",
              "        vertical-align: middle;\n",
              "    }\n",
              "\n",
              "    .dataframe tbody tr th {\n",
              "        vertical-align: top;\n",
              "    }\n",
              "\n",
              "    .dataframe thead tr th {\n",
              "        text-align: left;\n",
              "    }\n",
              "</style>\n",
              "<table border=\"1\" class=\"dataframe\">\n",
              "  <thead>\n",
              "    <tr>\n",
              "      <th></th>\n",
              "      <th colspan=\"5\" halign=\"left\">QQQ US Equity</th>\n",
              "    </tr>\n",
              "    <tr>\n",
              "      <th></th>\n",
              "      <th>typ</th>\n",
              "      <th>value</th>\n",
              "      <th>volume</th>\n",
              "      <th>cond</th>\n",
              "      <th>exch</th>\n",
              "    </tr>\n",
              "  </thead>\n",
              "  <tbody>\n",
              "    <tr>\n",
              "      <th>2020-07-31 20:00:00-04:00</th>\n",
              "      <td>TRADE</td>\n",
              "      <td>265.84</td>\n",
              "      <td>0</td>\n",
              "      <td>NC</td>\n",
              "      <td>P</td>\n",
              "    </tr>\n",
              "    <tr>\n",
              "      <th>2020-07-31 20:00:00-04:00</th>\n",
              "      <td>TRADE</td>\n",
              "      <td>265.78</td>\n",
              "      <td>0</td>\n",
              "      <td>OC</td>\n",
              "      <td>N</td>\n",
              "    </tr>\n",
              "    <tr>\n",
              "      <th>2020-07-31 20:00:00-04:00</th>\n",
              "      <td>TRADE</td>\n",
              "      <td>264.76</td>\n",
              "      <td>0</td>\n",
              "      <td>OC</td>\n",
              "      <td>M</td>\n",
              "    </tr>\n",
              "    <tr>\n",
              "      <th>2020-07-31 20:00:00-04:00</th>\n",
              "      <td>TRADE</td>\n",
              "      <td>265.84</td>\n",
              "      <td>0</td>\n",
              "      <td>OC</td>\n",
              "      <td>K</td>\n",
              "    </tr>\n",
              "    <tr>\n",
              "      <th>2020-07-31 20:00:00-04:00</th>\n",
              "      <td>TRADE</td>\n",
              "      <td>265.82</td>\n",
              "      <td>0</td>\n",
              "      <td>OC</td>\n",
              "      <td>J</td>\n",
              "    </tr>\n",
              "    <tr>\n",
              "      <th>2020-07-31 20:00:00-04:00</th>\n",
              "      <td>TRADE</td>\n",
              "      <td>265.67</td>\n",
              "      <td>0</td>\n",
              "      <td>OC</td>\n",
              "      <td>C</td>\n",
              "    </tr>\n",
              "    <tr>\n",
              "      <th>2020-07-31 20:00:00-04:00</th>\n",
              "      <td>TRADE</td>\n",
              "      <td>265.85</td>\n",
              "      <td>0</td>\n",
              "      <td>OC</td>\n",
              "      <td>B</td>\n",
              "    </tr>\n",
              "    <tr>\n",
              "      <th>2020-07-31 20:00:00-04:00</th>\n",
              "      <td>TRADE</td>\n",
              "      <td>265.60</td>\n",
              "      <td>0</td>\n",
              "      <td>OC</td>\n",
              "      <td>A</td>\n",
              "    </tr>\n",
              "    <tr>\n",
              "      <th>2020-07-31 20:00:00-04:00</th>\n",
              "      <td>TRADE</td>\n",
              "      <td>265.76</td>\n",
              "      <td>0</td>\n",
              "      <td>OC</td>\n",
              "      <td>D</td>\n",
              "    </tr>\n",
              "    <tr>\n",
              "      <th>2020-07-31 20:00:00-04:00</th>\n",
              "      <td>TRADE</td>\n",
              "      <td>265.79</td>\n",
              "      <td>0</td>\n",
              "      <td>CC</td>\n",
              "      <td>Q</td>\n",
              "    </tr>\n",
              "  </tbody>\n",
              "</table>\n",
              "</div>"
            ]
          },
          "metadata": {
            "tags": []
          },
          "execution_count": 38
        }
      ]
    },
    {
      "cell_type": "markdown",
      "metadata": {
        "id": "EGbQrVbcGjTg",
        "colab_type": "text"
      },
      "source": [
        "# Equity Screen `BEQS`"
      ]
    },
    {
      "cell_type": "code",
      "metadata": {
        "id": "2Q4CEzWkF0GH",
        "colab_type": "code",
        "colab": {
          "base_uri": "https://localhost:8080/",
          "height": 204
        },
        "outputId": "53db63b1-bfa9-4cdd-885a-bb134fd6cea2"
      },
      "source": [
        "blp.beqs('Core Capital Ratios', typ='GLOBAL').head().iloc[:, :6]"
      ],
      "execution_count": null,
      "outputs": [
        {
          "output_type": "execute_result",
          "data": {
            "text/plain": [
              "          ticker        short_name         market_cap tier_1_cap_rt_lf tot_rsk_bsd_cap_rt_lf moody's_issuer_rtg\n",
              "8331 JP  8331 JP    CHIBA BANK LTD   3,713,918,720.00            11.51                 12.12                 A1\n",
              "8355 JP  8355 JP     SHIZUOKA BANK   3,846,072,064.00            15.59                 15.59                 A1\n",
              "ABN NA    ABN NA  ABN AMRO BANK-CV   7,785,078,272.00            19.10                 25.20                 A1\n",
              "ACA FP    ACA FP   CREDIT AGRICOLE  27,639,259,136.00            12.90                 16.70                Aa3\n",
              "BAC US    BAC US   BANK OF AMERICA 215,562,747,904.00            13.20                 15.80                 A2"
            ],
            "text/html": [
              "<div>\n",
              "<style scoped>\n",
              "    .dataframe tbody tr th:only-of-type {\n",
              "        vertical-align: middle;\n",
              "    }\n",
              "\n",
              "    .dataframe tbody tr th {\n",
              "        vertical-align: top;\n",
              "    }\n",
              "\n",
              "    .dataframe thead th {\n",
              "        text-align: right;\n",
              "    }\n",
              "</style>\n",
              "<table border=\"1\" class=\"dataframe\">\n",
              "  <thead>\n",
              "    <tr style=\"text-align: right;\">\n",
              "      <th></th>\n",
              "      <th>ticker</th>\n",
              "      <th>short_name</th>\n",
              "      <th>market_cap</th>\n",
              "      <th>tier_1_cap_rt_lf</th>\n",
              "      <th>tot_rsk_bsd_cap_rt_lf</th>\n",
              "      <th>moody's_issuer_rtg</th>\n",
              "    </tr>\n",
              "  </thead>\n",
              "  <tbody>\n",
              "    <tr>\n",
              "      <th>8331 JP</th>\n",
              "      <td>8331 JP</td>\n",
              "      <td>CHIBA BANK LTD</td>\n",
              "      <td>3,713,918,720.00</td>\n",
              "      <td>11.51</td>\n",
              "      <td>12.12</td>\n",
              "      <td>A1</td>\n",
              "    </tr>\n",
              "    <tr>\n",
              "      <th>8355 JP</th>\n",
              "      <td>8355 JP</td>\n",
              "      <td>SHIZUOKA BANK</td>\n",
              "      <td>3,846,072,064.00</td>\n",
              "      <td>15.59</td>\n",
              "      <td>15.59</td>\n",
              "      <td>A1</td>\n",
              "    </tr>\n",
              "    <tr>\n",
              "      <th>ABN NA</th>\n",
              "      <td>ABN NA</td>\n",
              "      <td>ABN AMRO BANK-CV</td>\n",
              "      <td>7,785,078,272.00</td>\n",
              "      <td>19.10</td>\n",
              "      <td>25.20</td>\n",
              "      <td>A1</td>\n",
              "    </tr>\n",
              "    <tr>\n",
              "      <th>ACA FP</th>\n",
              "      <td>ACA FP</td>\n",
              "      <td>CREDIT AGRICOLE</td>\n",
              "      <td>27,639,259,136.00</td>\n",
              "      <td>12.90</td>\n",
              "      <td>16.70</td>\n",
              "      <td>Aa3</td>\n",
              "    </tr>\n",
              "    <tr>\n",
              "      <th>BAC US</th>\n",
              "      <td>BAC US</td>\n",
              "      <td>BANK OF AMERICA</td>\n",
              "      <td>215,562,747,904.00</td>\n",
              "      <td>13.20</td>\n",
              "      <td>15.80</td>\n",
              "      <td>A2</td>\n",
              "    </tr>\n",
              "  </tbody>\n",
              "</table>\n",
              "</div>"
            ]
          },
          "metadata": {
            "tags": []
          },
          "execution_count": 18
        }
      ]
    },
    {
      "cell_type": "markdown",
      "metadata": {
        "id": "513ExSuJAn7m",
        "colab_type": "text"
      },
      "source": [
        "# Subscription"
      ]
    },
    {
      "cell_type": "markdown",
      "metadata": {
        "id": "r_F2LaVFzTs-",
        "colab_type": "text"
      },
      "source": [
        "`blp.live` will yield market data as dict.\n",
        "If the data is required to pass as json, use `json=True` in `kwargs`"
      ]
    },
    {
      "cell_type": "code",
      "metadata": {
        "id": "IUU5v2ogAL9w",
        "colab_type": "code",
        "colab": {
          "base_uri": "https://localhost:8080/",
          "height": 71
        },
        "outputId": "fd1fc060-83c4-4ed2-b98a-b398c78619ba"
      },
      "source": [
        "for snap in blp.live(['ESA Index', 'NQA Index'], max_cnt=10):\n",
        "    print(snap)"
      ],
      "execution_count": null,
      "outputs": [
        {
          "output_type": "stream",
          "text": [
            "{'TICKER': 'ESA Index', 'MKTDATA_EVENT_TYPE': 'SUMMARY', 'MKTDATA_EVENT_SUBTYPE': 'INITPAINT', 'BID': 3268.25, 'ASK': 3269.5, 'BEST_BID': 3268.25, 'BEST_ASK': 3269.5, 'IND_BID_FLAG': False, 'IND_ASK_FLAG': False, 'ASK_SIZE': 2, 'BID_SIZE': 6, 'SIMP_LAST_PX_ALL_SESS_DIR_RT': 1, 'ID_BB_SEC_NUM_SRC': 2078868620302, 'LAST_PRICE': 3263.5, 'SIZE_LAST_TRADE': 1, 'LAST_TRADE': 3269.5, 'VOLUME': 2225251, 'HIGH': 3273.75, 'LOW': 3212.5, 'OPEN': 3269.25, 'BID_YIELD': 3425.5, 'ASK_YIELD': 3101.5, 'RT_OPEN_INTEREST': 2613918, 'RT_EXCH_MARKET_STATUS': 'ACTV', 'MIN_LIMIT': 3100.0, 'DOWN_LIMIT': 3100.0, 'MAX_LIMIT': 3427.0, 'UP_LIMIT': 3427.0, 'RT_TRADING_PERIOD': 'CLOS', 'PREV_CLOSE_VALUE_REALTIME': 3263.5, 'TRADING_DT_REALTIME': datetime.date(2020, 8, 3), 'RT_OPEN_INT_DT': datetime.date(2020, 7, 30), 'PREV_TRADING_DT_REALTIME': datetime.date(2020, 7, 31), 'PRICE_CHANGE_1Y_NET_RT': 271.75, 'PRICE_CHANGE_1Y_PCT_RT': 9.079999923706055, 'CLOSING_PRICE_1Y_AGO_RT': 2991.75, 'PX_SETTLE_ACTUAL_RT': 3263.5, 'PX_SETTLE_E_MINI_ACTUAL_RT': 3263.5, 'OPEN_TRADE_PRICE_REALTIME': 3269.25, 'LAST_PRICE_AM_SESSION': 3263.5, 'PX_SETTLE_INTRADAY_REALTIME': 3263.5, 'PX_SETTLE_LAST_DT_RT': datetime.date(2020, 7, 31), 'IN_AUCTION_RT': False, 'RT_API_MACHINE': 'apipubx0@md1p-ob-012', 'PX_HIGH_BID_RT': 0.0, 'PX_LOW_ASK_RT': 0.0, 'RT_EXCH_TRADE_STATUS': False, 'RT_QUOTE_STATUS': False, 'RT_SIMP_SEC_STATUS': 'CLOS', 'RT_PRICING_SOURCE': 'EX', 'ASK_CHANGE': 20.75, 'BID_CHANGE': 19.5, 'SPREAD_BA': -1.25, 'PRICE_52_WEEK_HIGH_RT': 3396.5, 'PRICE_52_WEEK_HIGH_DATE_RT': datetime.date(2020, 2, 20), 'PRICE_52_WEEK_LOW_RT': 2165.5, 'PRICE_52_WEEK_LOW_DATE_RT': datetime.date(2020, 3, 23), 'BLOOMBERG_CLOSE_PRICE_RT': 3263.5, 'PRICE_PREVIOUS_CLOSE_RT': 3263.5, 'PRICE_LAST_RT': 3263.5, 'PREVIOUS_TOTAL_VOLUME_RT': 2225251, 'HIGH_TRADE_PRICE_RT': 3273.75, 'LOW_TRADE_PRICE_RT': 3212.5, 'SETTLEMENT_TYPE_RT': 'ASET', 'PER_TRADE_VWAP_TURNOVER_RT': 0.0, 'PER_TRADE_VWAP_VOLUME_RT': 0.0, 'AUCTION_TYPE_REALTIME': 'OPEN', 'TRADING_HALT_REASON_TYPE_RT': 'NONE', 'PREVIOUS_CLOSE_BID_PRICE_RT': 3268.25, 'PREVIOUS_CLOSE_ASK_PRICE_RT': 3269.5, 'BLOOMBERG_CLOSE_DATE_RT': datetime.date(2020, 7, 31), 'UNADJUSTED_PREV_LAST_PRICE_RT': 3263.5, 'ADJUSTED_PREV_LAST_PRICE_RT': 3263.5, 'BASE_PRICE_ENABLED_RT': False, 'PREVIOUS_BLOOMBERG_CLOSE_PX_RT': 3263.5, 'PREVIOUS_LAST_TRADE_PRICE_RT': 3269.5, 'NORMALIZED_PRICE_REALTIME': 3263.5, 'OFF_BOOK_VOLUME_TODAY_RT': 0, 'OFF_BOOK_VOLUME_DATE_RT': datetime.date(2020, 8, 3), 'NUM_TRADES_RT': 0, 'BLOOMBERG_CLOSE_METHOD_RT': 'SETTLE', 'LAST_TICK_DIRECTION_RT': 3, 'DECIMAL_SETTLEMENT_PRICE_RT': 3263.5, 'IS_DELAYED_STREAM': False, 'RT_YLD_CHG_NET_1D': 0.0, 'EXCH_CODE_LAST_ALL_SESSION_RT': '', 'LOC_SRC_FOR_LST_TRD_ALL_SESS_RT': '', 'EXCH_CODE_OPEN_ALL_SESSION_RT': '', 'LOC_SRC_FOR_OPEN_ALL_SESS_RT': '', 'PX_CLOSE_ALL_WITH_SWITCHOVER_RT': 3263.5, 'CHG_NET_MTD_RT': 0.0, 'CHG_PCT_MTD_RT': 0.0, 'CHG_NET_QTD_RT': 173.25, 'CHG_PCT_QTD_RT': 5.6063, 'CHG_NET_YTD_RT': 32.5, 'CHG_PCT_YTD_RT': 1.0059, 'CHG_NET_1M_RT': 173.25, 'CHG_PCT_1M_RT': 5.6063, 'CHG_NET_3M_RT': 369.5, 'CHG_PCT_3M_RT': 12.7678, 'REALTIME_5_DAY_CHANGE_NET': 59.5, 'REALTIME_5_DAY_CHANGE_PERCENT': 1.8571, 'RT_PX_AS_PCT_INTRADAY_RANGE': 83.2653, 'REALTIME_PERCENT_BID_ASK_SPREAD': 0.03820000000000334, 'CHG_PCT_VOLUME_REG_SES_CLOSE': 0.0, 'API_RULES_VERSION': 201411210, 'PREV_SES_LAST_PRICE': 3248.75, 'RT_PX_CHG_NET_1D': 14.75, 'RT_PX_CHG_PCT_1D': 0.45399999618530273, 'PRICE_CHANGE_ON_DAY_RT': 14.75, 'LAST_UPDATE_BID_RT': datetime.date(2020, 7, 31), 'LAST_UPDATE_ASK_RT': datetime.date(2020, 7, 31), 'TIME': datetime.date(2020, 7, 31), 'SES_START': datetime.time(6, 0), 'SES_END': datetime.time(5, 0), 'ACT_TIME_LAST_SETTLE_RECEIVED_RT': datetime.time(5, 39, 49), 'PRICE_LAST_TIME_RT': datetime.time(5, 0), 'BLOOMBERG_CLOSE_TIME_RT': datetime.time(5, 39, 49), 'SUB_SEC_TM_AUCT_CALL_CNCLSN_RT': datetime.time(4, 29, 30), 'LAST_UPDATE_ALL_SESSIONS_RT': datetime.time(19, 39, 13)}\n",
            "{'TICKER': 'NQA Index', 'MKTDATA_EVENT_TYPE': 'SUMMARY', 'MKTDATA_EVENT_SUBTYPE': 'INITPAINT', 'BID': 10903.5, 'ASK': 10923.0, 'BEST_BID': 10903.5, 'BEST_ASK': 10923.0, 'IND_BID_FLAG': False, 'IND_ASK_FLAG': False, 'ASK_SIZE': 1, 'BID_SIZE': 2, 'SIMP_LAST_PX_ALL_SESS_DIR_RT': 1, 'ID_BB_SEC_NUM_SRC': 2078868620303, 'LAST_PRICE': 10890.5, 'SIZE_LAST_TRADE': 1, 'LAST_TRADE': 10914.25, 'VOLUME': 620624, 'HIGH': 10939.0, 'LOW': 10691.0, 'OPEN': 10906.5, 'BID_YIELD': 11426.0, 'ASK_YIELD': 10354.5, 'RT_OPEN_INTEREST': 220418, 'RT_EXCH_MARKET_STATUS': 'ACTV', 'MIN_LIMIT': 10345.0, 'DOWN_LIMIT': 10345.0, 'MAX_LIMIT': 11435.5, 'UP_LIMIT': 11435.5, 'RT_TRADING_PERIOD': 'CLOS', 'PREV_CLOSE_VALUE_REALTIME': 10890.5, 'TRADING_DT_REALTIME': datetime.date(2020, 8, 3), 'RT_OPEN_INT_DT': datetime.date(2020, 7, 30), 'PREV_TRADING_DT_REALTIME': datetime.date(2020, 7, 31), 'CLOSING_PRICE_1Y_AGO_RT': 7974.5, 'PX_SETTLE_ACTUAL_RT': 10890.5, 'OPEN_TRADE_PRICE_REALTIME': 10906.5, 'LAST_PRICE_AM_SESSION': 10890.5, 'PX_SETTLE_INTRADAY_REALTIME': 10890.5, 'PX_SETTLE_LAST_DT_RT': datetime.date(2020, 7, 31), 'IN_AUCTION_RT': False, 'RT_API_MACHINE': 'apipubx0@md1p-ob-009', 'PX_HIGH_BID_RT': 0.0, 'PX_LOW_ASK_RT': 0.0, 'RT_EXCH_TRADE_STATUS': False, 'RT_QUOTE_STATUS': False, 'RT_SIMP_SEC_STATUS': 'CLOS', 'RT_PRICING_SOURCE': 'EX', 'ASK_CHANGE': 129.0, 'BID_CHANGE': 109.5, 'SPREAD_BA': -19.5, 'PRICE_52_WEEK_HIGH_RT': 11058.5, 'PRICE_52_WEEK_HIGH_DATE_RT': datetime.date(2020, 7, 13), 'PRICE_52_WEEK_LOW_RT': 6626.0, 'PRICE_52_WEEK_LOW_DATE_RT': datetime.date(2020, 3, 23), 'BLOOMBERG_CLOSE_PRICE_RT': 10890.5, 'PRICE_PREVIOUS_CLOSE_RT': 10890.5, 'PRICE_LAST_RT': 10890.5, 'PREVIOUS_TOTAL_VOLUME_RT': 620624, 'HIGH_TRADE_PRICE_RT': 10939.0, 'LOW_TRADE_PRICE_RT': 10691.0, 'SETTLEMENT_TYPE_RT': 'ESET', 'PER_TRADE_VWAP_TURNOVER_RT': 0.0, 'PER_TRADE_VWAP_VOLUME_RT': 0.0, 'AUCTION_TYPE_REALTIME': 'OPEN', 'TRADING_HALT_REASON_TYPE_RT': 'NONE', 'PREVIOUS_CLOSE_BID_PRICE_RT': 10903.5, 'PREVIOUS_CLOSE_ASK_PRICE_RT': 10923.0, 'BLOOMBERG_CLOSE_DATE_RT': datetime.date(2020, 7, 31), 'UNADJUSTED_PREV_LAST_PRICE_RT': 10890.5, 'ADJUSTED_PREV_LAST_PRICE_RT': 10890.5, 'BASE_PRICE_ENABLED_RT': False, 'PREVIOUS_BLOOMBERG_CLOSE_PX_RT': 10890.5, 'NORMALIZED_PRICE_REALTIME': 10890.5, 'OFF_BOOK_VOLUME_TODAY_RT': 0, 'OFF_BOOK_VOLUME_DATE_RT': datetime.date(2020, 8, 3), 'NUM_TRADES_RT': 0, 'BLOOMBERG_CLOSE_METHOD_RT': 'SETTLE', 'LAST_TICK_DIRECTION_RT': 3, 'DECIMAL_SETTLEMENT_PRICE_RT': 10890.5, 'IS_DELAYED_STREAM': False, 'RT_YLD_CHG_NET_1D': 0.0, 'EXCH_CODE_LAST_ALL_SESSION_RT': '', 'LOC_SRC_FOR_LST_TRD_ALL_SESS_RT': '', 'EXCH_CODE_OPEN_ALL_SESSION_RT': '', 'LOC_SRC_FOR_OPEN_ALL_SESS_RT': '', 'PX_CLOSE_ALL_WITH_SWITCHOVER_RT': 10890.5, 'CHG_NET_MTD_RT': 0.0, 'CHG_PCT_MTD_RT': 0.0, 'CHG_NET_QTD_RT': 743.25, 'CHG_PCT_QTD_RT': 7.3246, 'CHG_NET_YTD_RT': 2097.0, 'CHG_PCT_YTD_RT': 23.8472, 'CHG_NET_1M_RT': 743.25, 'CHG_PCT_1M_RT': 7.3246, 'CHG_NET_3M_RT': 1916.25, 'CHG_PCT_3M_RT': 21.3528, 'REALTIME_2_DAY_CHANGE_NET': 216.25, 'REALTIME_2_DAY_CHANGE_PERCENT': 2.0259, 'REALTIME_5_DAY_CHANGE_NET': 431.5, 'REALTIME_5_DAY_CHANGE_PERCENT': 4.1256, 'RT_PX_AS_PCT_INTRADAY_RANGE': 80.4435, 'REALTIME_PERCENT_BID_ASK_SPREAD': 0.1787999999999954, 'CHG_PCT_VOLUME_REG_SES_CLOSE': 0.0, 'API_RULES_VERSION': 201411210, 'PREV_SES_LAST_PRICE': 10794.0, 'RT_PX_CHG_NET_1D': 96.5, 'RT_PX_CHG_PCT_1D': 0.8939999938011169, 'PRICE_CHANGE_ON_DAY_RT': 96.5, 'LAST_UPDATE_BID_RT': datetime.date(2020, 7, 31), 'LAST_UPDATE_ASK_RT': datetime.date(2020, 7, 31), 'TIME': datetime.date(2020, 7, 31), 'SES_START': datetime.time(6, 0), 'SES_END': datetime.time(5, 0), 'ACT_TIME_LAST_SETTLE_RECEIVED_RT': datetime.time(5, 39, 55), 'PRICE_LAST_TIME_RT': datetime.time(5, 0), 'BLOOMBERG_CLOSE_TIME_RT': datetime.time(5, 39, 55), 'SUB_SEC_TM_AUCT_CALL_CNCLSN_RT': datetime.time(4, 29, 30), 'LAST_UPDATE_ALL_SESSIONS_RT': datetime.time(19, 35, 5)}\n"
          ],
          "name": "stdout"
        }
      ]
    },
    {
      "cell_type": "markdown",
      "metadata": {
        "id": "nfE-ygMl9O46",
        "colab_type": "text"
      },
      "source": [
        "# Pipelines"
      ]
    },
    {
      "cell_type": "code",
      "metadata": {
        "id": "oeoJykcSAjqY",
        "colab_type": "code",
        "colab": {
          "base_uri": "https://localhost:8080/",
          "height": 315
        },
        "outputId": "1a0c64c0-8c63-47d6-e3e9-197d4db4ef45"
      },
      "source": [
        "cur_dt = pd.Timestamp('today', tz='America/New_York')\n",
        "recent = pd.bdate_range(end='today', periods=2, tz='America/New_York')\n",
        "pre_dt = max(filter(lambda dd: dd < cur_dt, recent))\n",
        "\n",
        "fx = blp.bdib('JPY Curncy', dt=pre_dt)\n",
        "jp = pd.concat([\n",
        "    blp.bdib(ticker, dt=pre_dt, session='day')\n",
        "    for ticker in ['7974 JP Equity', '9984 JP Equity']\n",
        "], axis=1)\n",
        "jp.tail()"
      ],
      "execution_count": null,
      "outputs": [
        {
          "output_type": "stream",
          "text": [
            "2020-08-02 20:00:09,932:xbbg.io.storage.save_intraday:INFO:saving data to C:/Data/Bloomberg/Curncy/JPY Curncy/TRADE/2020-07-31.parq ...\n",
            "2020-08-02 20:00:10,468:xbbg.io.storage.save_intraday:INFO:saving data to C:/Data/Bloomberg/Equity/7974 JP Equity/TRADE/2020-07-31.parq ...\n",
            "2020-08-02 20:00:11,403:xbbg.io.storage.save_intraday:INFO:saving data to C:/Data/Bloomberg/Equity/9984 JP Equity/TRADE/2020-07-31.parq ...\n"
          ],
          "name": "stderr"
        },
        {
          "output_type": "execute_result",
          "data": {
            "text/plain": [
              "                          7974 JP Equity                                         ... 9984 JP Equity                   \\\n",
              "                                    open      high       low     close   volume  ...            low    close  volume   \n",
              "2020-07-31 14:54:00+09:00      46,460.00 46,460.00 46,440.00 46,460.00   800.00  ...       6,608.00 6,613.00   66200   \n",
              "2020-07-31 14:55:00+09:00      46,450.00 46,460.00 46,420.00 46,430.00 7,500.00  ...       6,603.00 6,604.00   98300   \n",
              "2020-07-31 14:56:00+09:00      46,420.00 46,460.00 46,420.00 46,430.00 4,500.00  ...       6,600.00 6,604.00   73000   \n",
              "2020-07-31 14:57:00+09:00      46,440.00 46,460.00 46,440.00 46,450.00 2,800.00  ...       6,600.00 6,604.00   89400   \n",
              "2020-07-31 14:58:00+09:00      46,440.00 46,480.00 46,440.00 46,480.00 8,000.00  ...       6,601.00 6,608.00  110300   \n",
              "\n",
              "                                                   \n",
              "                          num_trds          value  \n",
              "2020-07-31 14:54:00+09:00      124 437,683,904.00  \n",
              "2020-07-31 14:55:00+09:00      188 649,790,784.00  \n",
              "2020-07-31 14:56:00+09:00      170 482,047,392.00  \n",
              "2020-07-31 14:57:00+09:00      158 590,299,968.00  \n",
              "2020-07-31 14:58:00+09:00      181 728,525,184.00  \n",
              "\n",
              "[5 rows x 14 columns]"
            ],
            "text/html": [
              "<div>\n",
              "<style scoped>\n",
              "    .dataframe tbody tr th:only-of-type {\n",
              "        vertical-align: middle;\n",
              "    }\n",
              "\n",
              "    .dataframe tbody tr th {\n",
              "        vertical-align: top;\n",
              "    }\n",
              "\n",
              "    .dataframe thead tr th {\n",
              "        text-align: left;\n",
              "    }\n",
              "</style>\n",
              "<table border=\"1\" class=\"dataframe\">\n",
              "  <thead>\n",
              "    <tr>\n",
              "      <th></th>\n",
              "      <th colspan=\"5\" halign=\"left\">7974 JP Equity</th>\n",
              "      <th>...</th>\n",
              "      <th colspan=\"5\" halign=\"left\">9984 JP Equity</th>\n",
              "    </tr>\n",
              "    <tr>\n",
              "      <th></th>\n",
              "      <th>open</th>\n",
              "      <th>high</th>\n",
              "      <th>low</th>\n",
              "      <th>close</th>\n",
              "      <th>volume</th>\n",
              "      <th>...</th>\n",
              "      <th>low</th>\n",
              "      <th>close</th>\n",
              "      <th>volume</th>\n",
              "      <th>num_trds</th>\n",
              "      <th>value</th>\n",
              "    </tr>\n",
              "  </thead>\n",
              "  <tbody>\n",
              "    <tr>\n",
              "      <th>2020-07-31 14:54:00+09:00</th>\n",
              "      <td>46,460.00</td>\n",
              "      <td>46,460.00</td>\n",
              "      <td>46,440.00</td>\n",
              "      <td>46,460.00</td>\n",
              "      <td>800.00</td>\n",
              "      <td>...</td>\n",
              "      <td>6,608.00</td>\n",
              "      <td>6,613.00</td>\n",
              "      <td>66200</td>\n",
              "      <td>124</td>\n",
              "      <td>437,683,904.00</td>\n",
              "    </tr>\n",
              "    <tr>\n",
              "      <th>2020-07-31 14:55:00+09:00</th>\n",
              "      <td>46,450.00</td>\n",
              "      <td>46,460.00</td>\n",
              "      <td>46,420.00</td>\n",
              "      <td>46,430.00</td>\n",
              "      <td>7,500.00</td>\n",
              "      <td>...</td>\n",
              "      <td>6,603.00</td>\n",
              "      <td>6,604.00</td>\n",
              "      <td>98300</td>\n",
              "      <td>188</td>\n",
              "      <td>649,790,784.00</td>\n",
              "    </tr>\n",
              "    <tr>\n",
              "      <th>2020-07-31 14:56:00+09:00</th>\n",
              "      <td>46,420.00</td>\n",
              "      <td>46,460.00</td>\n",
              "      <td>46,420.00</td>\n",
              "      <td>46,430.00</td>\n",
              "      <td>4,500.00</td>\n",
              "      <td>...</td>\n",
              "      <td>6,600.00</td>\n",
              "      <td>6,604.00</td>\n",
              "      <td>73000</td>\n",
              "      <td>170</td>\n",
              "      <td>482,047,392.00</td>\n",
              "    </tr>\n",
              "    <tr>\n",
              "      <th>2020-07-31 14:57:00+09:00</th>\n",
              "      <td>46,440.00</td>\n",
              "      <td>46,460.00</td>\n",
              "      <td>46,440.00</td>\n",
              "      <td>46,450.00</td>\n",
              "      <td>2,800.00</td>\n",
              "      <td>...</td>\n",
              "      <td>6,600.00</td>\n",
              "      <td>6,604.00</td>\n",
              "      <td>89400</td>\n",
              "      <td>158</td>\n",
              "      <td>590,299,968.00</td>\n",
              "    </tr>\n",
              "    <tr>\n",
              "      <th>2020-07-31 14:58:00+09:00</th>\n",
              "      <td>46,440.00</td>\n",
              "      <td>46,480.00</td>\n",
              "      <td>46,440.00</td>\n",
              "      <td>46,480.00</td>\n",
              "      <td>8,000.00</td>\n",
              "      <td>...</td>\n",
              "      <td>6,601.00</td>\n",
              "      <td>6,608.00</td>\n",
              "      <td>110300</td>\n",
              "      <td>181</td>\n",
              "      <td>728,525,184.00</td>\n",
              "    </tr>\n",
              "  </tbody>\n",
              "</table>\n",
              "<p>5 rows × 14 columns</p>\n",
              "</div>"
            ]
          },
          "metadata": {
            "tags": []
          },
          "execution_count": 39
        }
      ]
    },
    {
      "cell_type": "markdown",
      "metadata": {
        "id": "T9-5WgXj_vBp",
        "colab_type": "text"
      },
      "source": [
        "Get `close` prices and convert to USD"
      ]
    },
    {
      "cell_type": "code",
      "metadata": {
        "id": "qCDBiBx4-JMk",
        "colab_type": "code",
        "colab": {
          "base_uri": "https://localhost:8080/",
          "height": 204
        },
        "outputId": "82a2410f-4b59-4415-a386-5dc1436d8760"
      },
      "source": [
        "prices = (\n",
        "    jp\n",
        "    .pipe(pipeline.get_series, col='close')\n",
        "    .pipe(pipeline.apply_fx, fx=fx)\n",
        "    .tz_convert('Asia/Tokyo')\n",
        ")\n",
        "prices.tail()"
      ],
      "execution_count": null,
      "outputs": [
        {
          "output_type": "execute_result",
          "data": {
            "text/plain": [
              "                           7974 JP Equity  9984 JP Equity\n",
              "2020-07-31 14:54:00+09:00          445.23           63.37\n",
              "2020-07-31 14:55:00+09:00          444.90           63.28\n",
              "2020-07-31 14:56:00+09:00          444.90           63.28\n",
              "2020-07-31 14:57:00+09:00          445.14           63.29\n",
              "2020-07-31 14:58:00+09:00          445.38           63.32"
            ],
            "text/html": [
              "<div>\n",
              "<style scoped>\n",
              "    .dataframe tbody tr th:only-of-type {\n",
              "        vertical-align: middle;\n",
              "    }\n",
              "\n",
              "    .dataframe tbody tr th {\n",
              "        vertical-align: top;\n",
              "    }\n",
              "\n",
              "    .dataframe thead th {\n",
              "        text-align: right;\n",
              "    }\n",
              "</style>\n",
              "<table border=\"1\" class=\"dataframe\">\n",
              "  <thead>\n",
              "    <tr style=\"text-align: right;\">\n",
              "      <th></th>\n",
              "      <th>7974 JP Equity</th>\n",
              "      <th>9984 JP Equity</th>\n",
              "    </tr>\n",
              "  </thead>\n",
              "  <tbody>\n",
              "    <tr>\n",
              "      <th>2020-07-31 14:54:00+09:00</th>\n",
              "      <td>445.23</td>\n",
              "      <td>63.37</td>\n",
              "    </tr>\n",
              "    <tr>\n",
              "      <th>2020-07-31 14:55:00+09:00</th>\n",
              "      <td>444.90</td>\n",
              "      <td>63.28</td>\n",
              "    </tr>\n",
              "    <tr>\n",
              "      <th>2020-07-31 14:56:00+09:00</th>\n",
              "      <td>444.90</td>\n",
              "      <td>63.28</td>\n",
              "    </tr>\n",
              "    <tr>\n",
              "      <th>2020-07-31 14:57:00+09:00</th>\n",
              "      <td>445.14</td>\n",
              "      <td>63.29</td>\n",
              "    </tr>\n",
              "    <tr>\n",
              "      <th>2020-07-31 14:58:00+09:00</th>\n",
              "      <td>445.38</td>\n",
              "      <td>63.32</td>\n",
              "    </tr>\n",
              "  </tbody>\n",
              "</table>\n",
              "</div>"
            ]
          },
          "metadata": {
            "tags": []
          },
          "execution_count": 40
        }
      ]
    },
    {
      "cell_type": "markdown",
      "metadata": {
        "id": "WY9v31j7lhcm",
        "colab_type": "text"
      },
      "source": [
        "## Customized Pipelines"
      ]
    },
    {
      "cell_type": "markdown",
      "metadata": {
        "id": "teA0jx5axwsx",
        "colab_type": "text"
      },
      "source": [
        "VWAP for intraday bar data"
      ]
    },
    {
      "cell_type": "code",
      "metadata": {
        "id": "Iy5cJP_N_iyk",
        "colab_type": "code",
        "colab": {}
      },
      "source": [
        "def vwap(data: pd.DataFrame, fx=None, name=None) -> pd.Series:\n",
        "    return pd.Series({\n",
        "        ticker: (\n",
        "            data[ticker][['close', 'volume']].prod(axis=1).sum()\n",
        "            if fx is None else (\n",
        "                data[ticker].close\n",
        "                .pipe(pipeline.apply_fx, fx)\n",
        "                .close\n",
        "                .mul(data[ticker].volume)\n",
        "                .sum()\n",
        "            )\n",
        "        ) / data[ticker].volume.sum()\n",
        "        for ticker in data.columns.get_level_values(0).unique()\n",
        "    }, name=name)"
      ],
      "execution_count": null,
      "outputs": []
    },
    {
      "cell_type": "markdown",
      "metadata": {
        "id": "aLsq0Gv_xnA-",
        "colab_type": "text"
      },
      "source": [
        "VWAP in local currency"
      ]
    },
    {
      "cell_type": "code",
      "metadata": {
        "id": "eFZ7BVXKmWbB",
        "colab_type": "code",
        "colab": {
          "base_uri": "https://localhost:8080/",
          "height": 68
        },
        "outputId": "abd1230c-dbc2-4505-adce-bd8206d509a9"
      },
      "source": [
        "jp.pipe(vwap, name=jp.index[-1].date())"
      ],
      "execution_count": null,
      "outputs": [
        {
          "output_type": "execute_result",
          "data": {
            "text/plain": [
              "7974 JP Equity   46,700.20\n",
              "9984 JP Equity    6,785.66\n",
              "Name: 2020-07-31, dtype: float64"
            ]
          },
          "metadata": {
            "tags": []
          },
          "execution_count": 41
        }
      ]
    },
    {
      "cell_type": "markdown",
      "metadata": {
        "id": "PLKVB7aExpXU",
        "colab_type": "text"
      },
      "source": [
        "VWAP in USD"
      ]
    },
    {
      "cell_type": "code",
      "metadata": {
        "id": "dJRcosfWw78M",
        "colab_type": "code",
        "colab": {
          "base_uri": "https://localhost:8080/",
          "height": 68
        },
        "outputId": "0a758758-d027-445b-8b88-2c1baf367093"
      },
      "source": [
        "jp.pipe(vwap, fx=fx, name=jp.index[-1].date())"
      ],
      "execution_count": null,
      "outputs": [
        {
          "output_type": "execute_result",
          "data": {
            "text/plain": [
              "7974 JP Equity   447.38\n",
              "9984 JP Equity    64.99\n",
              "Name: 2020-07-31, dtype: float64"
            ]
          },
          "metadata": {
            "tags": []
          },
          "execution_count": 42
        }
      ]
    },
    {
      "cell_type": "markdown",
      "metadata": {
        "id": "CwkBOgdwxhGM",
        "colab_type": "text"
      },
      "source": [
        "Total traded volume as of time in day for past few days"
      ]
    },
    {
      "cell_type": "code",
      "metadata": {
        "id": "ufOqMLr8WoAa",
        "colab_type": "code",
        "colab": {
          "base_uri": "https://localhost:8080/",
          "height": 85
        },
        "outputId": "bedd33ba-121a-4e48-c78a-c1d0c8dd4d3b"
      },
      "source": [
        "jp_hist = pd.concat([\n",
        "    pd.concat([\n",
        "        blp.bdib(ticker, dt=dt, session='day')\n",
        "        for ticker in ['7974 JP Equity', '9984 JP Equity']\n",
        "    ], axis=1)\n",
        "    for dt in pd.bdate_range(end='today', periods=10)[:-1]\n",
        "], sort=False)\n",
        "unique(jp_hist.index.date)"
      ],
      "execution_count": null,
      "outputs": [
        {
          "output_type": "execute_result",
          "data": {
            "text/plain": [
              "array([datetime.date(2020, 7, 20), datetime.date(2020, 7, 21),\n",
              "       datetime.date(2020, 7, 22), datetime.date(2020, 7, 27),\n",
              "       datetime.date(2020, 7, 28), datetime.date(2020, 7, 29),\n",
              "       datetime.date(2020, 7, 30)], dtype=object)"
            ]
          },
          "metadata": {
            "tags": []
          },
          "execution_count": 43
        }
      ]
    },
    {
      "cell_type": "code",
      "metadata": {
        "colab_type": "code",
        "id": "1rjd1Fh6VQR7",
        "colab": {}
      },
      "source": [
        "def drop_zeros(data: pd.DataFrame) -> pd.DataFrame:\n",
        "    return (\n",
        "        data\n",
        "        .replace(0, np.nan)\n",
        "        .dropna(how='all')\n",
        "        .replace(np.nan, 0)\n",
        "    )"
      ],
      "execution_count": null,
      "outputs": []
    },
    {
      "cell_type": "code",
      "metadata": {
        "id": "pkYreXZepajc",
        "colab_type": "code",
        "colab": {}
      },
      "source": [
        "def traded_volume(data: pd.DataFrame, asof: str) -> pd.DataFrame:\n",
        "    return (\n",
        "        data\n",
        "        .pipe(pipeline.get_series, col='volume')\n",
        "        .between_time('0:00', asof)\n",
        "        .resample('B')\n",
        "        .sum()\n",
        "        .pipe(drop_zeros)\n",
        "    )"
      ],
      "execution_count": null,
      "outputs": []
    },
    {
      "cell_type": "code",
      "metadata": {
        "colab_type": "code",
        "id": "Q8lX043tVQ6Y",
        "colab": {
          "base_uri": "https://localhost:8080/",
          "height": 266
        },
        "outputId": "818afe15-54b8-4414-8d77-9e9a8dbb5993"
      },
      "source": [
        "jp_hist.pipe(traded_volume, asof='10:00')"
      ],
      "execution_count": null,
      "outputs": [
        {
          "output_type": "execute_result",
          "data": {
            "text/plain": [
              "                           7974 JP Equity  9984 JP Equity\n",
              "2020-07-20 00:00:00+09:00      289,600.00    5,112,200.00\n",
              "2020-07-21 00:00:00+09:00      668,900.00    8,102,200.00\n",
              "2020-07-22 00:00:00+09:00      229,400.00    7,589,500.00\n",
              "2020-07-27 00:00:00+09:00      250,500.00    7,051,600.00\n",
              "2020-07-28 00:00:00+09:00      211,600.00    6,751,300.00\n",
              "2020-07-29 00:00:00+09:00      165,900.00    6,574,800.00\n",
              "2020-07-30 00:00:00+09:00      166,400.00    7,945,300.00"
            ],
            "text/html": [
              "<div>\n",
              "<style scoped>\n",
              "    .dataframe tbody tr th:only-of-type {\n",
              "        vertical-align: middle;\n",
              "    }\n",
              "\n",
              "    .dataframe tbody tr th {\n",
              "        vertical-align: top;\n",
              "    }\n",
              "\n",
              "    .dataframe thead th {\n",
              "        text-align: right;\n",
              "    }\n",
              "</style>\n",
              "<table border=\"1\" class=\"dataframe\">\n",
              "  <thead>\n",
              "    <tr style=\"text-align: right;\">\n",
              "      <th></th>\n",
              "      <th>7974 JP Equity</th>\n",
              "      <th>9984 JP Equity</th>\n",
              "    </tr>\n",
              "  </thead>\n",
              "  <tbody>\n",
              "    <tr>\n",
              "      <th>2020-07-20 00:00:00+09:00</th>\n",
              "      <td>289,600.00</td>\n",
              "      <td>5,112,200.00</td>\n",
              "    </tr>\n",
              "    <tr>\n",
              "      <th>2020-07-21 00:00:00+09:00</th>\n",
              "      <td>668,900.00</td>\n",
              "      <td>8,102,200.00</td>\n",
              "    </tr>\n",
              "    <tr>\n",
              "      <th>2020-07-22 00:00:00+09:00</th>\n",
              "      <td>229,400.00</td>\n",
              "      <td>7,589,500.00</td>\n",
              "    </tr>\n",
              "    <tr>\n",
              "      <th>2020-07-27 00:00:00+09:00</th>\n",
              "      <td>250,500.00</td>\n",
              "      <td>7,051,600.00</td>\n",
              "    </tr>\n",
              "    <tr>\n",
              "      <th>2020-07-28 00:00:00+09:00</th>\n",
              "      <td>211,600.00</td>\n",
              "      <td>6,751,300.00</td>\n",
              "    </tr>\n",
              "    <tr>\n",
              "      <th>2020-07-29 00:00:00+09:00</th>\n",
              "      <td>165,900.00</td>\n",
              "      <td>6,574,800.00</td>\n",
              "    </tr>\n",
              "    <tr>\n",
              "      <th>2020-07-30 00:00:00+09:00</th>\n",
              "      <td>166,400.00</td>\n",
              "      <td>7,945,300.00</td>\n",
              "    </tr>\n",
              "  </tbody>\n",
              "</table>\n",
              "</div>"
            ]
          },
          "metadata": {
            "tags": []
          },
          "execution_count": 44
        }
      ]
    },
    {
      "cell_type": "code",
      "metadata": {
        "id": "JmqNerQiTbVW",
        "colab_type": "code",
        "colab": {
          "base_uri": "https://localhost:8080/",
          "height": 266
        },
        "outputId": "dc8ab3f5-438a-4724-f68a-ef0c9f707168"
      },
      "source": [
        "jp_hist.pipe(traded_volume, asof='11:00')"
      ],
      "execution_count": null,
      "outputs": [
        {
          "output_type": "execute_result",
          "data": {
            "text/plain": [
              "                           7974 JP Equity  9984 JP Equity\n",
              "2020-07-20 00:00:00+09:00      421,500.00   13,141,100.00\n",
              "2020-07-21 00:00:00+09:00      788,700.00   13,217,700.00\n",
              "2020-07-22 00:00:00+09:00      355,600.00   10,967,200.00\n",
              "2020-07-27 00:00:00+09:00      349,600.00   10,750,700.00\n",
              "2020-07-28 00:00:00+09:00      280,900.00    9,959,300.00\n",
              "2020-07-29 00:00:00+09:00      236,800.00    9,270,700.00\n",
              "2020-07-30 00:00:00+09:00      230,500.00   11,454,800.00"
            ],
            "text/html": [
              "<div>\n",
              "<style scoped>\n",
              "    .dataframe tbody tr th:only-of-type {\n",
              "        vertical-align: middle;\n",
              "    }\n",
              "\n",
              "    .dataframe tbody tr th {\n",
              "        vertical-align: top;\n",
              "    }\n",
              "\n",
              "    .dataframe thead th {\n",
              "        text-align: right;\n",
              "    }\n",
              "</style>\n",
              "<table border=\"1\" class=\"dataframe\">\n",
              "  <thead>\n",
              "    <tr style=\"text-align: right;\">\n",
              "      <th></th>\n",
              "      <th>7974 JP Equity</th>\n",
              "      <th>9984 JP Equity</th>\n",
              "    </tr>\n",
              "  </thead>\n",
              "  <tbody>\n",
              "    <tr>\n",
              "      <th>2020-07-20 00:00:00+09:00</th>\n",
              "      <td>421,500.00</td>\n",
              "      <td>13,141,100.00</td>\n",
              "    </tr>\n",
              "    <tr>\n",
              "      <th>2020-07-21 00:00:00+09:00</th>\n",
              "      <td>788,700.00</td>\n",
              "      <td>13,217,700.00</td>\n",
              "    </tr>\n",
              "    <tr>\n",
              "      <th>2020-07-22 00:00:00+09:00</th>\n",
              "      <td>355,600.00</td>\n",
              "      <td>10,967,200.00</td>\n",
              "    </tr>\n",
              "    <tr>\n",
              "      <th>2020-07-27 00:00:00+09:00</th>\n",
              "      <td>349,600.00</td>\n",
              "      <td>10,750,700.00</td>\n",
              "    </tr>\n",
              "    <tr>\n",
              "      <th>2020-07-28 00:00:00+09:00</th>\n",
              "      <td>280,900.00</td>\n",
              "      <td>9,959,300.00</td>\n",
              "    </tr>\n",
              "    <tr>\n",
              "      <th>2020-07-29 00:00:00+09:00</th>\n",
              "      <td>236,800.00</td>\n",
              "      <td>9,270,700.00</td>\n",
              "    </tr>\n",
              "    <tr>\n",
              "      <th>2020-07-30 00:00:00+09:00</th>\n",
              "      <td>230,500.00</td>\n",
              "      <td>11,454,800.00</td>\n",
              "    </tr>\n",
              "  </tbody>\n",
              "</table>\n",
              "</div>"
            ]
          },
          "metadata": {
            "tags": []
          },
          "execution_count": 45
        }
      ]
    },
    {
      "cell_type": "code",
      "metadata": {
        "id": "L1qu50oaO6Rv",
        "colab_type": "code",
        "colab": {}
      },
      "source": [
        ""
      ],
      "execution_count": null,
      "outputs": []
    }
  ]
}